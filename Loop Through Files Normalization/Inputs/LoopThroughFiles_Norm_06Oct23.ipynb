{
 "cells": [
  {
   "cell_type": "code",
   "execution_count": 26,
   "id": "4a721f8a-ba61-465e-b7f8-70465bc5dc5d",
   "metadata": {},
   "outputs": [
    {
     "name": "stdout",
     "output_type": "stream",
     "text": [
      "1053600674\n",
      "(383, 964)\n",
      "(366, 964)\n",
      "(366, 967)\n",
      "UL001647\n",
      "(1472, 964)\n",
      "(1470, 964)\n",
      "(1470, 967)\n"
     ]
    }
   ],
   "source": [
    "#Testing looping through files and normalizing each one, exporting as csv\n",
    "#eventually work to merge these .csvs??\n",
    "\n",
    "import pandas as pd #df handling\n",
    "import fastparquet #make sure that this is installed in your anaconda environment\n",
    "import numpy as np #w pandas\n",
    "import statistics as stat\n",
    "import matplotlib.pyplot as plt\n",
    "from scipy import stats\n",
    "from sklearn.datasets import make_classification\n",
    "from feature_engine.selection import DropCorrelatedFeatures\n",
    "import os\n",
    "import json\n",
    "\n",
    "#get the current directory\n",
    "#Change this to match where you have your parquet files downloaded:\n",
    "ids='TESTID_13Oct23'\n",
    "directory_in_str='C:/Users/Sepro/Capstone/Inputs/'\n",
    "#directory = os.fsencode(directory_in_str)\n",
    "\n",
    "cwd = os.getcwd()\n",
    "input_dir = os.path.join(cwd, 'Inputs') #this is the folder that contains a csv of all the files you're trying to process\n",
    "#df_total = pd.read_parquet(os.path.join(input_dir, 'metadata_merged.csv'),\n",
    " #                               usecols=['Metadata_Source', 'Metadata_Plate', 'Metadata_Well', 'Metadata_InChIKey'],\n",
    "  #                              dtype={'Metadata_Plate': str})\n",
    "filenames=pd.read_csv(os.path.join(input_dir,'Test_Parqs.csv'))\n",
    "plates = filenames['FileName'].unique() #csv should have a header that says FileName with parquet names under it\n",
    "\n",
    "\n",
    "plate_dfs = []\n",
    "failed_plates = []\n",
    "rows_removed = 0\n",
    "total_rows = 0\n",
    "    \n",
    "for i, plate in enumerate(plates):\n",
    "    #print(plate), prints are used for debugging\n",
    "    file= directory_in_str+ plate + '.parquet' #concatonate parquet name w the appropriate directory so it can find ti\n",
    "    df=pd.read_parquet(file, engine='fastparquet')\n",
    "    \n",
    "    #print(df.shape)\n",
    "    \n",
    "    #Separate out the metadata columns \n",
    "    metadata_cols = df.loc[:,df.columns.str.contains('Metadata')]\n",
    "    \n",
    "    #pulled straight from ryan, removing columns\n",
    "        \n",
    "    all_cols = df.columns\n",
    "    to_exclude = ['Metadata', 'Image', 'BoundingBox', 'Center', 'EulerNumber', 'Count', 'Neighbors', 'FormFactor',\n",
    "                  'Location', 'Overflow', 'mito_tubeness', 'Manders', 'MinIntensity',\n",
    "                  'Cytoplasm_Texture_Contrast_DNA_10', 'Cytoplasm_Texture_DifferenceEntropy_DNA_10',\n",
    "                  'Cytoplasm_Texture_Entropy_DNA_10', 'Cytoplasm_Texture_InfoMeas1_DNA_10',\n",
    "                  'Cytoplasm_Texture_InfoMeas2_DNA_10', 'Cytoplasm_Texture_SumEntropy_DNA_1',\n",
    "                  'Cytoplasm_Texture_SumVariance_DNA_10', 'Cytoplasm_Texture_Variance_DNA_10', 'CellsIncludingEdges']\n",
    "    excluded_cols = np.full(len(all_cols), False)\n",
    "    for cols in to_exclude:\n",
    "        excluded_cols = excluded_cols | all_cols.str.contains(cols)\n",
    "    df = df.loc[:, ~excluded_cols]\n",
    "    #print(df.shape)\n",
    "    \n",
    "    with open(os.path.join(input_dir, 'columns_to_drop.json')) as f:\n",
    "        correlated_features = json.load(f)\n",
    "    df = df.drop(columns=correlated_features)\n",
    "    \n",
    "    #print(df.shape)\n",
    "\n",
    "        \n",
    "\n",
    "    data_numerical=df._get_numeric_data() #removing columns that have non quantitiative data\n",
    "\n",
    "    df_normalized = (0.6745 * (data_numerical - data_numerical.median(axis=0))) / stats.median_abs_deviation(data_numerical, axis=0)\n",
    "\n",
    "\n",
    "    df_normalized = df_normalized.dropna(axis=1) #this is what the problem was, remove inf and NaN data w this line\n",
    "\n",
    "    \n",
    "    #print(df_normalized.shape)\n",
    "    \n",
    "    #remove outliers\n",
    "    n_MAD = 500\n",
    "    threshold = 0.6745 * n_MAD\n",
    "    rows_to_keep = (np.abs(df_normalized) < threshold).all(axis=1)\n",
    "    df_normalized = df_normalized[rows_to_keep]\n",
    "    metadata_cols = metadata_cols[rows_to_keep]\n",
    "    \n",
    "    #print(df_normalized.shape)\n",
    "    \n",
    "    dfs_full=pd.concat([metadata_cols, df_normalized, ], axis=1)\n",
    "    \n",
    "    #print(dfs_full.shape)\n",
    "\n",
    "    #dropped_correlated = corrs.fit_transform(df_normalized)\n",
    "\n",
    "    plate_dfs.append(dfs_full)\n",
    "    \n",
    "#exit for loop\n",
    "\n",
    "# Aggregate and save plates\n",
    "df_normalized_plates = pd.concat(plate_dfs)\n",
    "output_dir = os.path.join(cwd, 'output')\n",
    "outfile = os.path.join(output_dir, 'normalized_samples_' + str(n_MAD) + 'MAD_'+ids+'.csv')\n",
    "df_normalized_plates.to_csv(outfile, index=False)\n",
    "    \n",
    "    \n",
    "    "
   ]
  },
  {
   "cell_type": "code",
   "execution_count": 25,
   "id": "fd3a95f3-0e49-4ca6-861c-6a76fbffaf3e",
   "metadata": {},
   "outputs": [
    {
     "data": {
      "text/plain": [
       "(1836, 967)"
      ]
     },
     "execution_count": 25,
     "metadata": {},
     "output_type": "execute_result"
    }
   ],
   "source": [
    "df_normalized_plates.shape\n",
    "    \n",
    "    \n"
   ]
  },
  {
   "cell_type": "code",
   "execution_count": null,
   "id": "2b107f04-da14-4d1f-b0dd-ee704d76f642",
   "metadata": {},
   "outputs": [],
   "source": []
  }
 ],
 "metadata": {
  "kernelspec": {
   "display_name": "Python 3 (ipykernel)",
   "language": "python",
   "name": "python3"
  },
  "language_info": {
   "codemirror_mode": {
    "name": "ipython",
    "version": 3
   },
   "file_extension": ".py",
   "mimetype": "text/x-python",
   "name": "python",
   "nbconvert_exporter": "python",
   "pygments_lexer": "ipython3",
   "version": "3.10.9"
  }
 },
 "nbformat": 4,
 "nbformat_minor": 5
}
